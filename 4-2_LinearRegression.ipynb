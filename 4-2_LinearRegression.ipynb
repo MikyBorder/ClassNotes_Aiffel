{
 "cells": [
  {
   "cell_type": "markdown",
   "id": "74bc78e6",
   "metadata": {},
   "source": [
    "2. Linear Regression\n",
    "\n",
    "1) Linear Regression\n",
    "There are two types: simple linear regression and multiple linear regression.\n",
    "We usually use multiple linear regression because it’s rare to have only one feature; we often have two or more features.\n",
    "\n",
    "2) Cost Function\n",
    "The cost function (also called loss function or objective function) helps us measure the distance between the data and the model.\n",
    "It calculates the error (the difference between the real values and predicted values).\n",
    "We try to find the best settings (parameters) that make the mean squared error as small as possible.\n",
    "\n",
    "3) Gradient Descent\n",
    "This is a way to find the error and make it smaller.\n",
    "We look for the point where the slope (gradient) of the cost function is the smallest, and that helps us create a model with less error."
   ]
  },
  {
   "cell_type": "code",
   "execution_count": 2,
   "id": "c2e1ba83",
   "metadata": {},
   "outputs": [],
   "source": [
    "# imoprt Library \n",
    "\n",
    "import pandas as pd\n",
    "from sklearn.model_selection import train_test_split\n",
    "from sklearn.metrics import mean_squared_error\n"
   ]
  },
  {
   "cell_type": "code",
   "execution_count": 3,
   "id": "25f22e4d",
   "metadata": {},
   "outputs": [
    {
     "data": {
      "text/plain": [
       "((353, 10), (89, 10), (353,), (89,))"
      ]
     },
     "execution_count": 3,
     "metadata": {},
     "output_type": "execute_result"
    }
   ],
   "source": [
    "# import Data\n",
    "\n",
    "from sklearn.datasets import load_diabetes\n",
    "\n",
    "def make_dataset():\n",
    "    dataset = load_diabetes()\n",
    "    \n",
    "    df = pd.DataFrame(dataset.data, columns=dataset.feature_names)\n",
    "    df['target'] = dataset.target \n",
    "    \n",
    "    X_train, X_test, y_train, y_test = train_test_split(\n",
    "        df.drop('target', axis=1), df['target'], test_size=0.2, random_state=1--4)\n",
    "    \n",
    "    return X_train, X_test, y_train, y_test\n",
    "\n",
    "\n",
    "X_train, X_test, y_train, y_test = make_dataset()\n",
    "X_train.shape, X_test.shape, y_train.shape, y_test.shape"
   ]
  },
  {
   "cell_type": "code",
   "execution_count": 4,
   "id": "2d104e5a",
   "metadata": {},
   "outputs": [
    {
     "data": {
      "text/plain": [
       "2981.5854714667616"
      ]
     },
     "execution_count": 4,
     "metadata": {},
     "output_type": "execute_result"
    }
   ],
   "source": [
    "# Linear Regression\n",
    "\n",
    "from sklearn.linear_model import LinearRegression\n",
    "\n",
    "model = LinearRegression()\n",
    "\n",
    "model.fit(X_train, y_train)\n",
    "\n",
    "pred = model.predict(X_test)\n",
    "\n",
    "mean_squared_error(y_test, pred)\n"
   ]
  },
  {
   "cell_type": "code",
   "execution_count": null,
   "id": "5ff1b68a",
   "metadata": {},
   "outputs": [],
   "source": []
  },
  {
   "cell_type": "markdown",
   "id": "b6a73f56",
   "metadata": {},
   "source": [
    "3. Ridge Regression\n",
    "\n",
    "- Ridge regression is a model used to fix the problem of overfitting by adding regularization.\n",
    "- The regularization method used is called L2 regularization.\n",
    "- We can adjust the regularization by changing the alpha value.\n",
    "- As the alpha value gets bigger, it makes the regression coefficients smaller.\n",
    "- Regularization helps make the model better and more reliable."
   ]
  },
  {
   "cell_type": "code",
   "execution_count": 5,
   "id": "65715c35",
   "metadata": {},
   "outputs": [
    {
     "data": {
      "text/plain": [
       "3584.0955479468957"
      ]
     },
     "execution_count": 5,
     "metadata": {},
     "output_type": "execute_result"
    }
   ],
   "source": [
    "# Ridge Regression\n",
    "\n",
    "from sklearn.linear_model import Ridge\n",
    "\n",
    "model = Ridge(alpha=1)\n",
    "model.fit(X_train, y_train)\n",
    "pred = model.predict(X_test)\n",
    "\n",
    "mean_squared_error(y_test, pred)"
   ]
  },
  {
   "cell_type": "code",
   "execution_count": 6,
   "id": "2b0e12f5",
   "metadata": {},
   "outputs": [
    {
     "data": {
      "text/html": [
       "<div>\n",
       "<style scoped>\n",
       "    .dataframe tbody tr th:only-of-type {\n",
       "        vertical-align: middle;\n",
       "    }\n",
       "\n",
       "    .dataframe tbody tr th {\n",
       "        vertical-align: top;\n",
       "    }\n",
       "\n",
       "    .dataframe thead th {\n",
       "        text-align: right;\n",
       "    }\n",
       "</style>\n",
       "<table border=\"1\" class=\"dataframe\">\n",
       "  <thead>\n",
       "    <tr style=\"text-align: right;\">\n",
       "      <th></th>\n",
       "      <th>alpha1</th>\n",
       "    </tr>\n",
       "  </thead>\n",
       "  <tbody>\n",
       "    <tr>\n",
       "      <th>age</th>\n",
       "      <td>34.980295</td>\n",
       "    </tr>\n",
       "    <tr>\n",
       "      <th>sex</th>\n",
       "      <td>-70.418618</td>\n",
       "    </tr>\n",
       "    <tr>\n",
       "      <th>bmi</th>\n",
       "      <td>289.990899</td>\n",
       "    </tr>\n",
       "    <tr>\n",
       "      <th>bp</th>\n",
       "      <td>197.301093</td>\n",
       "    </tr>\n",
       "    <tr>\n",
       "      <th>s1</th>\n",
       "      <td>14.361706</td>\n",
       "    </tr>\n",
       "    <tr>\n",
       "      <th>s2</th>\n",
       "      <td>-6.028385</td>\n",
       "    </tr>\n",
       "    <tr>\n",
       "      <th>s3</th>\n",
       "      <td>-140.961042</td>\n",
       "    </tr>\n",
       "    <tr>\n",
       "      <th>s4</th>\n",
       "      <td>112.855692</td>\n",
       "    </tr>\n",
       "    <tr>\n",
       "      <th>s5</th>\n",
       "      <td>215.648129</td>\n",
       "    </tr>\n",
       "    <tr>\n",
       "      <th>s6</th>\n",
       "      <td>95.414386</td>\n",
       "    </tr>\n",
       "  </tbody>\n",
       "</table>\n",
       "</div>"
      ],
      "text/plain": [
       "         alpha1\n",
       "age   34.980295\n",
       "sex  -70.418618\n",
       "bmi  289.990899\n",
       "bp   197.301093\n",
       "s1    14.361706\n",
       "s2    -6.028385\n",
       "s3  -140.961042\n",
       "s4   112.855692\n",
       "s5   215.648129\n",
       "s6    95.414386"
      ]
     },
     "execution_count": 6,
     "metadata": {},
     "output_type": "execute_result"
    }
   ],
   "source": [
    "# Coefficents\n",
    "\n",
    "coef = pd.DataFrame(data=model.coef_, index=X_train.columns, columns=['alpha1'])\n",
    "coef"
   ]
  },
  {
   "cell_type": "code",
   "execution_count": 7,
   "id": "e01ca227",
   "metadata": {},
   "outputs": [
    {
     "data": {
      "text/plain": [
       "5312.538476807287"
      ]
     },
     "execution_count": 7,
     "metadata": {},
     "output_type": "execute_result"
    }
   ],
   "source": [
    "# Ridge Regression with Coefficents (alpha=10)\n",
    "\n",
    "model = Ridge(alpha=10)\n",
    "model.fit(X_train, y_train)\n",
    "pred = model.predict(X_test)\n",
    "mean_squared_error(y_test, pred)\n"
   ]
  },
  {
   "cell_type": "code",
   "execution_count": 8,
   "id": "533e22e4",
   "metadata": {},
   "outputs": [
    {
     "data": {
      "text/html": [
       "<div>\n",
       "<style scoped>\n",
       "    .dataframe tbody tr th:only-of-type {\n",
       "        vertical-align: middle;\n",
       "    }\n",
       "\n",
       "    .dataframe tbody tr th {\n",
       "        vertical-align: top;\n",
       "    }\n",
       "\n",
       "    .dataframe thead th {\n",
       "        text-align: right;\n",
       "    }\n",
       "</style>\n",
       "<table border=\"1\" class=\"dataframe\">\n",
       "  <thead>\n",
       "    <tr style=\"text-align: right;\">\n",
       "      <th></th>\n",
       "      <th>alpha1</th>\n",
       "      <th>alpha10</th>\n",
       "    </tr>\n",
       "  </thead>\n",
       "  <tbody>\n",
       "    <tr>\n",
       "      <th>age</th>\n",
       "      <td>34.980295</td>\n",
       "      <td>18.239772</td>\n",
       "    </tr>\n",
       "    <tr>\n",
       "      <th>sex</th>\n",
       "      <td>-70.418618</td>\n",
       "      <td>-0.179466</td>\n",
       "    </tr>\n",
       "    <tr>\n",
       "      <th>bmi</th>\n",
       "      <td>289.990899</td>\n",
       "      <td>64.638525</td>\n",
       "    </tr>\n",
       "    <tr>\n",
       "      <th>bp</th>\n",
       "      <td>197.301093</td>\n",
       "      <td>48.296866</td>\n",
       "    </tr>\n",
       "    <tr>\n",
       "      <th>s1</th>\n",
       "      <td>14.361706</td>\n",
       "      <td>16.116114</td>\n",
       "    </tr>\n",
       "    <tr>\n",
       "      <th>s2</th>\n",
       "      <td>-6.028385</td>\n",
       "      <td>12.650269</td>\n",
       "    </tr>\n",
       "    <tr>\n",
       "      <th>s3</th>\n",
       "      <td>-140.961042</td>\n",
       "      <td>-39.044831</td>\n",
       "    </tr>\n",
       "    <tr>\n",
       "      <th>s4</th>\n",
       "      <td>112.855692</td>\n",
       "      <td>38.730542</td>\n",
       "    </tr>\n",
       "    <tr>\n",
       "      <th>s5</th>\n",
       "      <td>215.648129</td>\n",
       "      <td>54.157253</td>\n",
       "    </tr>\n",
       "    <tr>\n",
       "      <th>s6</th>\n",
       "      <td>95.414386</td>\n",
       "      <td>34.314453</td>\n",
       "    </tr>\n",
       "  </tbody>\n",
       "</table>\n",
       "</div>"
      ],
      "text/plain": [
       "         alpha1    alpha10\n",
       "age   34.980295  18.239772\n",
       "sex  -70.418618  -0.179466\n",
       "bmi  289.990899  64.638525\n",
       "bp   197.301093  48.296866\n",
       "s1    14.361706  16.116114\n",
       "s2    -6.028385  12.650269\n",
       "s3  -140.961042 -39.044831\n",
       "s4   112.855692  38.730542\n",
       "s5   215.648129  54.157253\n",
       "s6    95.414386  34.314453"
      ]
     },
     "execution_count": 8,
     "metadata": {},
     "output_type": "execute_result"
    }
   ],
   "source": [
    "# Coefficients(alpha =10)\n",
    "\n",
    "coef['alpha10'] = model.coef_ \n",
    "coef"
   ]
  },
  {
   "cell_type": "code",
   "execution_count": 9,
   "id": "34456b0e",
   "metadata": {},
   "outputs": [
    {
     "data": {
      "text/plain": [
       "3011.220004888878"
      ]
     },
     "execution_count": 9,
     "metadata": {},
     "output_type": "execute_result"
    }
   ],
   "source": [
    "# Ridge Regression with Coefficents (alpha=0.05)\n",
    "\n",
    "model = Ridge(alpha=0.05)\n",
    "model.fit(X_train, y_train)\n",
    "pred = model.predict(X_test)\n",
    "mean_squared_error(y_test, pred)\n"
   ]
  },
  {
   "cell_type": "code",
   "execution_count": 10,
   "id": "282dea89",
   "metadata": {},
   "outputs": [
    {
     "data": {
      "text/html": [
       "<div>\n",
       "<style scoped>\n",
       "    .dataframe tbody tr th:only-of-type {\n",
       "        vertical-align: middle;\n",
       "    }\n",
       "\n",
       "    .dataframe tbody tr th {\n",
       "        vertical-align: top;\n",
       "    }\n",
       "\n",
       "    .dataframe thead th {\n",
       "        text-align: right;\n",
       "    }\n",
       "</style>\n",
       "<table border=\"1\" class=\"dataframe\">\n",
       "  <thead>\n",
       "    <tr style=\"text-align: right;\">\n",
       "      <th></th>\n",
       "      <th>alpha1</th>\n",
       "      <th>alpha10</th>\n",
       "      <th>alpha0.05</th>\n",
       "    </tr>\n",
       "  </thead>\n",
       "  <tbody>\n",
       "    <tr>\n",
       "      <th>age</th>\n",
       "      <td>34.980295</td>\n",
       "      <td>18.239772</td>\n",
       "      <td>10.155109</td>\n",
       "    </tr>\n",
       "    <tr>\n",
       "      <th>sex</th>\n",
       "      <td>-70.418618</td>\n",
       "      <td>-0.179466</td>\n",
       "      <td>-228.627783</td>\n",
       "    </tr>\n",
       "    <tr>\n",
       "      <th>bmi</th>\n",
       "      <td>289.990899</td>\n",
       "      <td>64.638525</td>\n",
       "      <td>510.650019</td>\n",
       "    </tr>\n",
       "    <tr>\n",
       "      <th>bp</th>\n",
       "      <td>197.301093</td>\n",
       "      <td>48.296866</td>\n",
       "      <td>331.433858</td>\n",
       "    </tr>\n",
       "    <tr>\n",
       "      <th>s1</th>\n",
       "      <td>14.361706</td>\n",
       "      <td>16.116114</td>\n",
       "      <td>-120.923424</td>\n",
       "    </tr>\n",
       "    <tr>\n",
       "      <th>s2</th>\n",
       "      <td>-6.028385</td>\n",
       "      <td>12.650269</td>\n",
       "      <td>-5.901966</td>\n",
       "    </tr>\n",
       "    <tr>\n",
       "      <th>s3</th>\n",
       "      <td>-140.961042</td>\n",
       "      <td>-39.044831</td>\n",
       "      <td>-181.838744</td>\n",
       "    </tr>\n",
       "    <tr>\n",
       "      <th>s4</th>\n",
       "      <td>112.855692</td>\n",
       "      <td>38.730542</td>\n",
       "      <td>132.533346</td>\n",
       "    </tr>\n",
       "    <tr>\n",
       "      <th>s5</th>\n",
       "      <td>215.648129</td>\n",
       "      <td>54.157253</td>\n",
       "      <td>407.550230</td>\n",
       "    </tr>\n",
       "    <tr>\n",
       "      <th>s6</th>\n",
       "      <td>95.414386</td>\n",
       "      <td>34.314453</td>\n",
       "      <td>51.392493</td>\n",
       "    </tr>\n",
       "  </tbody>\n",
       "</table>\n",
       "</div>"
      ],
      "text/plain": [
       "         alpha1    alpha10   alpha0.05\n",
       "age   34.980295  18.239772   10.155109\n",
       "sex  -70.418618  -0.179466 -228.627783\n",
       "bmi  289.990899  64.638525  510.650019\n",
       "bp   197.301093  48.296866  331.433858\n",
       "s1    14.361706  16.116114 -120.923424\n",
       "s2    -6.028385  12.650269   -5.901966\n",
       "s3  -140.961042 -39.044831 -181.838744\n",
       "s4   112.855692  38.730542  132.533346\n",
       "s5   215.648129  54.157253  407.550230\n",
       "s6    95.414386  34.314453   51.392493"
      ]
     },
     "execution_count": 10,
     "metadata": {},
     "output_type": "execute_result"
    }
   ],
   "source": [
    "# Coefficients(alpha =0.05)\n",
    "\n",
    "coef['alpha0.05'] = model.coef_ \n",
    "coef"
   ]
  },
  {
   "cell_type": "code",
   "execution_count": null,
   "id": "6c84fd34",
   "metadata": {},
   "outputs": [],
   "source": []
  },
  {
   "cell_type": "markdown",
   "id": "44f19e88",
   "metadata": {},
   "source": [
    "4. Lasso Regression\n",
    "\n",
    "- Lasso regression is a model that also helps with the problem of overfitting by using regularization.\n",
    "- The regularization method here is called L1 regularization (it helps pick only the most important features).\n",
    "- Compared to L2, Lasso makes the regression coefficients drop more sharply, keeping only the features that matter and turning others into zero.\n",
    "\n",
    "Quick Reminder:\n",
    "Ridge Regression uses L2 regularization.\n",
    "Lasso Regression uses L1 regularization, which picks the important features and leaves out the rest."
   ]
  },
  {
   "cell_type": "code",
   "execution_count": 11,
   "id": "d15c748f",
   "metadata": {},
   "outputs": [
    {
     "data": {
      "text/plain": [
       "4157.679048082886"
      ]
     },
     "execution_count": 11,
     "metadata": {},
     "output_type": "execute_result"
    }
   ],
   "source": [
    "# Lasso Regression\n",
    "\n",
    "from sklearn.linear_model import Lasso\n",
    "\n",
    "model = Lasso(alpha =1)\n",
    "model.fit(X_train, y_train)\n",
    "pred = model.predict(X_test)\n",
    "\n",
    "mean_squared_error(y_test, pred)\n"
   ]
  },
  {
   "cell_type": "code",
   "execution_count": 12,
   "id": "65d92c92",
   "metadata": {},
   "outputs": [
    {
     "data": {
      "text/html": [
       "<div>\n",
       "<style scoped>\n",
       "    .dataframe tbody tr th:only-of-type {\n",
       "        vertical-align: middle;\n",
       "    }\n",
       "\n",
       "    .dataframe tbody tr th {\n",
       "        vertical-align: top;\n",
       "    }\n",
       "\n",
       "    .dataframe thead th {\n",
       "        text-align: right;\n",
       "    }\n",
       "</style>\n",
       "<table border=\"1\" class=\"dataframe\">\n",
       "  <thead>\n",
       "    <tr style=\"text-align: right;\">\n",
       "      <th></th>\n",
       "      <th>alpha1</th>\n",
       "    </tr>\n",
       "  </thead>\n",
       "  <tbody>\n",
       "    <tr>\n",
       "      <th>age</th>\n",
       "      <td>0.000000</td>\n",
       "    </tr>\n",
       "    <tr>\n",
       "      <th>sex</th>\n",
       "      <td>-0.000000</td>\n",
       "    </tr>\n",
       "    <tr>\n",
       "      <th>bmi</th>\n",
       "      <td>405.016266</td>\n",
       "    </tr>\n",
       "    <tr>\n",
       "      <th>bp</th>\n",
       "      <td>39.860492</td>\n",
       "    </tr>\n",
       "    <tr>\n",
       "      <th>s1</th>\n",
       "      <td>0.000000</td>\n",
       "    </tr>\n",
       "    <tr>\n",
       "      <th>s2</th>\n",
       "      <td>0.000000</td>\n",
       "    </tr>\n",
       "    <tr>\n",
       "      <th>s3</th>\n",
       "      <td>-0.000000</td>\n",
       "    </tr>\n",
       "    <tr>\n",
       "      <th>s4</th>\n",
       "      <td>0.000000</td>\n",
       "    </tr>\n",
       "    <tr>\n",
       "      <th>s5</th>\n",
       "      <td>220.846547</td>\n",
       "    </tr>\n",
       "    <tr>\n",
       "      <th>s6</th>\n",
       "      <td>0.000000</td>\n",
       "    </tr>\n",
       "  </tbody>\n",
       "</table>\n",
       "</div>"
      ],
      "text/plain": [
       "         alpha1\n",
       "age    0.000000\n",
       "sex   -0.000000\n",
       "bmi  405.016266\n",
       "bp    39.860492\n",
       "s1     0.000000\n",
       "s2     0.000000\n",
       "s3    -0.000000\n",
       "s4     0.000000\n",
       "s5   220.846547\n",
       "s6     0.000000"
      ]
     },
     "execution_count": 12,
     "metadata": {},
     "output_type": "execute_result"
    }
   ],
   "source": [
    "# Coefficients \n",
    "\n",
    "coef = pd.DataFrame(data = model.coef_, index = X_train.columns, columns = ['alpha1'])\n",
    "coef"
   ]
  },
  {
   "cell_type": "code",
   "execution_count": 13,
   "id": "de14344c",
   "metadata": {},
   "outputs": [
    {
     "data": {
      "text/plain": [
       "6043.327017075469"
      ]
     },
     "execution_count": 13,
     "metadata": {},
     "output_type": "execute_result"
    }
   ],
   "source": [
    "# Lasso Regression with Coefficents(alpha=2)\n",
    "\n",
    "model = Lasso(alpha =2)\n",
    "model.fit(X_train, y_train)\n",
    "pred = model.predict(X_test)\n",
    "\n",
    "mean_squared_error(y_test, pred)\n"
   ]
  },
  {
   "cell_type": "code",
   "execution_count": 14,
   "id": "29f68f0d",
   "metadata": {},
   "outputs": [
    {
     "data": {
      "text/html": [
       "<div>\n",
       "<style scoped>\n",
       "    .dataframe tbody tr th:only-of-type {\n",
       "        vertical-align: middle;\n",
       "    }\n",
       "\n",
       "    .dataframe tbody tr th {\n",
       "        vertical-align: top;\n",
       "    }\n",
       "\n",
       "    .dataframe thead th {\n",
       "        text-align: right;\n",
       "    }\n",
       "</style>\n",
       "<table border=\"1\" class=\"dataframe\">\n",
       "  <thead>\n",
       "    <tr style=\"text-align: right;\">\n",
       "      <th></th>\n",
       "      <th>alpha1</th>\n",
       "      <th>alpha2</th>\n",
       "    </tr>\n",
       "  </thead>\n",
       "  <tbody>\n",
       "    <tr>\n",
       "      <th>age</th>\n",
       "      <td>0.000000</td>\n",
       "      <td>0.000000</td>\n",
       "    </tr>\n",
       "    <tr>\n",
       "      <th>sex</th>\n",
       "      <td>-0.000000</td>\n",
       "      <td>0.000000</td>\n",
       "    </tr>\n",
       "    <tr>\n",
       "      <th>bmi</th>\n",
       "      <td>405.016266</td>\n",
       "      <td>83.332652</td>\n",
       "    </tr>\n",
       "    <tr>\n",
       "      <th>bp</th>\n",
       "      <td>39.860492</td>\n",
       "      <td>0.000000</td>\n",
       "    </tr>\n",
       "    <tr>\n",
       "      <th>s1</th>\n",
       "      <td>0.000000</td>\n",
       "      <td>0.000000</td>\n",
       "    </tr>\n",
       "    <tr>\n",
       "      <th>s2</th>\n",
       "      <td>0.000000</td>\n",
       "      <td>0.000000</td>\n",
       "    </tr>\n",
       "    <tr>\n",
       "      <th>s3</th>\n",
       "      <td>-0.000000</td>\n",
       "      <td>-0.000000</td>\n",
       "    </tr>\n",
       "    <tr>\n",
       "      <th>s4</th>\n",
       "      <td>0.000000</td>\n",
       "      <td>0.000000</td>\n",
       "    </tr>\n",
       "    <tr>\n",
       "      <th>s5</th>\n",
       "      <td>220.846547</td>\n",
       "      <td>0.000000</td>\n",
       "    </tr>\n",
       "    <tr>\n",
       "      <th>s6</th>\n",
       "      <td>0.000000</td>\n",
       "      <td>0.000000</td>\n",
       "    </tr>\n",
       "  </tbody>\n",
       "</table>\n",
       "</div>"
      ],
      "text/plain": [
       "         alpha1     alpha2\n",
       "age    0.000000   0.000000\n",
       "sex   -0.000000   0.000000\n",
       "bmi  405.016266  83.332652\n",
       "bp    39.860492   0.000000\n",
       "s1     0.000000   0.000000\n",
       "s2     0.000000   0.000000\n",
       "s3    -0.000000  -0.000000\n",
       "s4     0.000000   0.000000\n",
       "s5   220.846547   0.000000\n",
       "s6     0.000000   0.000000"
      ]
     },
     "execution_count": 14,
     "metadata": {},
     "output_type": "execute_result"
    }
   ],
   "source": [
    "#  Coefficents (alpha=2)\n",
    "\n",
    "coef['alpha2'] = model.coef_\n",
    "coef"
   ]
  },
  {
   "cell_type": "code",
   "execution_count": 15,
   "id": "0ade532d",
   "metadata": {},
   "outputs": [
    {
     "data": {
      "text/plain": [
       "3026.9096979632095"
      ]
     },
     "execution_count": 15,
     "metadata": {},
     "output_type": "execute_result"
    }
   ],
   "source": [
    "# Lasso Regression with Coefficents(alpha=0.05)\n",
    "\n",
    "model = Lasso(alpha =0.05)\n",
    "model.fit(X_train, y_train)\n",
    "pred = model.predict(X_test)\n",
    "\n",
    "mean_squared_error(y_test, pred)"
   ]
  },
  {
   "cell_type": "code",
   "execution_count": 16,
   "id": "6bc6334e",
   "metadata": {},
   "outputs": [
    {
     "data": {
      "text/html": [
       "<div>\n",
       "<style scoped>\n",
       "    .dataframe tbody tr th:only-of-type {\n",
       "        vertical-align: middle;\n",
       "    }\n",
       "\n",
       "    .dataframe tbody tr th {\n",
       "        vertical-align: top;\n",
       "    }\n",
       "\n",
       "    .dataframe thead th {\n",
       "        text-align: right;\n",
       "    }\n",
       "</style>\n",
       "<table border=\"1\" class=\"dataframe\">\n",
       "  <thead>\n",
       "    <tr style=\"text-align: right;\">\n",
       "      <th></th>\n",
       "      <th>alpha1</th>\n",
       "      <th>alpha2</th>\n",
       "      <th>alpha0.05</th>\n",
       "    </tr>\n",
       "  </thead>\n",
       "  <tbody>\n",
       "    <tr>\n",
       "      <th>age</th>\n",
       "      <td>0.000000</td>\n",
       "      <td>0.000000</td>\n",
       "      <td>0.000000</td>\n",
       "    </tr>\n",
       "    <tr>\n",
       "      <th>sex</th>\n",
       "      <td>-0.000000</td>\n",
       "      <td>0.000000</td>\n",
       "      <td>-199.056361</td>\n",
       "    </tr>\n",
       "    <tr>\n",
       "      <th>bmi</th>\n",
       "      <td>405.016266</td>\n",
       "      <td>83.332652</td>\n",
       "      <td>533.170336</td>\n",
       "    </tr>\n",
       "    <tr>\n",
       "      <th>bp</th>\n",
       "      <td>39.860492</td>\n",
       "      <td>0.000000</td>\n",
       "      <td>319.457884</td>\n",
       "    </tr>\n",
       "    <tr>\n",
       "      <th>s1</th>\n",
       "      <td>0.000000</td>\n",
       "      <td>0.000000</td>\n",
       "      <td>-40.581851</td>\n",
       "    </tr>\n",
       "    <tr>\n",
       "      <th>s2</th>\n",
       "      <td>0.000000</td>\n",
       "      <td>0.000000</td>\n",
       "      <td>-0.000000</td>\n",
       "    </tr>\n",
       "    <tr>\n",
       "      <th>s3</th>\n",
       "      <td>-0.000000</td>\n",
       "      <td>-0.000000</td>\n",
       "      <td>-254.140254</td>\n",
       "    </tr>\n",
       "    <tr>\n",
       "      <th>s4</th>\n",
       "      <td>0.000000</td>\n",
       "      <td>0.000000</td>\n",
       "      <td>4.901003</td>\n",
       "    </tr>\n",
       "    <tr>\n",
       "      <th>s5</th>\n",
       "      <td>220.846547</td>\n",
       "      <td>0.000000</td>\n",
       "      <td>423.892247</td>\n",
       "    </tr>\n",
       "    <tr>\n",
       "      <th>s6</th>\n",
       "      <td>0.000000</td>\n",
       "      <td>0.000000</td>\n",
       "      <td>21.973553</td>\n",
       "    </tr>\n",
       "  </tbody>\n",
       "</table>\n",
       "</div>"
      ],
      "text/plain": [
       "         alpha1     alpha2   alpha0.05\n",
       "age    0.000000   0.000000    0.000000\n",
       "sex   -0.000000   0.000000 -199.056361\n",
       "bmi  405.016266  83.332652  533.170336\n",
       "bp    39.860492   0.000000  319.457884\n",
       "s1     0.000000   0.000000  -40.581851\n",
       "s2     0.000000   0.000000   -0.000000\n",
       "s3    -0.000000  -0.000000 -254.140254\n",
       "s4     0.000000   0.000000    4.901003\n",
       "s5   220.846547   0.000000  423.892247\n",
       "s6     0.000000   0.000000   21.973553"
      ]
     },
     "execution_count": 16,
     "metadata": {},
     "output_type": "execute_result"
    }
   ],
   "source": [
    "#  Coefficents (alpha=0.05)\n",
    "\n",
    "coef['alpha0.05'] = model.coef_\n",
    "coef"
   ]
  },
  {
   "cell_type": "code",
   "execution_count": null,
   "id": "6757b8d8",
   "metadata": {},
   "outputs": [],
   "source": []
  },
  {
   "cell_type": "markdown",
   "id": "a6e268e3",
   "metadata": {},
   "source": [
    "5. ElasticNet Regression\n",
    "\n",
    "- ElasticNet regression helps with overfitting by combining L2 and L1 regularization.\n",
    "- It takes longer to run because it uses both methods to choose important features.\n",
    "\n",
    "Quick Reminder:\n",
    "Ridge Regression uses L2 regularization.\n",
    "Lasso Regression uses L1 regularization (picks important features).\n",
    "ElasticNet Regression uses both L2 + L1 regularization."
   ]
  },
  {
   "cell_type": "code",
   "execution_count": 17,
   "id": "03b3e990",
   "metadata": {},
   "outputs": [
    {
     "data": {
      "text/plain": [
       "6302.844051697682"
      ]
     },
     "execution_count": 17,
     "metadata": {},
     "output_type": "execute_result"
    }
   ],
   "source": [
    "# ElasticNet Regression\n",
    "\n",
    "from sklearn.linear_model import ElasticNet\n",
    "\n",
    "model = ElasticNet(alpha = 1)\n",
    "\n",
    "model.fit(X_train, y_train)\n",
    "\n",
    "pred = model.predict(X_test)\n",
    "\n",
    "mean_squared_error(y_test, pred)"
   ]
  },
  {
   "cell_type": "code",
   "execution_count": 18,
   "id": "ddb936f1",
   "metadata": {},
   "outputs": [
    {
     "data": {
      "text/plain": [
       "2988.9507985386003"
      ]
     },
     "execution_count": 18,
     "metadata": {},
     "output_type": "execute_result"
    }
   ],
   "source": [
    "# ElasticNet Regression with coefficents (alpha , l1_ratio)\n",
    "\n",
    "from sklearn.linear_model import ElasticNet\n",
    "\n",
    "model = ElasticNet(alpha = 0.0001, l1_ratio = 0.6)\n",
    "\n",
    "model.fit(X_train, y_train)\n",
    "\n",
    "pred = model.predict(X_test)\n",
    "\n",
    "mean_squared_error(y_test, pred)"
   ]
  },
  {
   "cell_type": "code",
   "execution_count": null,
   "id": "c9a2754e",
   "metadata": {},
   "outputs": [],
   "source": []
  },
  {
   "cell_type": "markdown",
   "id": "1b3ded22",
   "metadata": {},
   "source": [
    "6. RandomForest vs XGBoost\n",
    "\n",
    "1) RandomForest\n",
    "\n",
    " It uses many decision trees.\n",
    " It's a bagging method where we take random samples from the data.\n",
    " At the end, it makes a decision by majority vote from all the trees.\n",
    "\n",
    "2) XGBoost\n",
    "\n",
    "XGBoost is a very powerful tree method.\n",
    "It stands for eXtreme Gradient Boosting.\n",
    "It uses weak learners that keep improving to make a stronger model."
   ]
  },
  {
   "cell_type": "code",
   "execution_count": 19,
   "id": "7f3e2074",
   "metadata": {},
   "outputs": [
    {
     "data": {
      "text/plain": [
       "3030.605039325843"
      ]
     },
     "execution_count": 19,
     "metadata": {},
     "output_type": "execute_result"
    }
   ],
   "source": [
    "\n",
    "# RandomForest Regression \n",
    "\n",
    "from sklearn.ensemble import RandomForestRegressor\n",
    "\n",
    "model = RandomForestRegressor()\n",
    "model.fit(X_train, y_train)\n",
    "pred = model.predict(X_test)\n",
    "\n",
    "mean_squared_error(y_test, pred)\n"
   ]
  },
  {
   "cell_type": "code",
   "execution_count": 20,
   "id": "3324970e",
   "metadata": {},
   "outputs": [
    {
     "name": "stderr",
     "output_type": "stream",
     "text": [
      "/opt/conda/lib/python3.9/site-packages/pkg_resources/__init__.py:122: PkgResourcesDeprecationWarning: 0.996-ko-0.9.2 is an invalid version and will not be supported in a future release\n",
      "  warnings.warn(\n"
     ]
    },
    {
     "data": {
      "text/plain": [
       "4260.163796212525"
      ]
     },
     "execution_count": 20,
     "metadata": {},
     "output_type": "execute_result"
    }
   ],
   "source": [
    "# XGBoost\n",
    "\n",
    "\n",
    "from xgboost import XGBRegressor\n",
    "\n",
    "model = XGBRegressor()\n",
    "model.fit(X_train, y_train)\n",
    "pred = model.predict(X_test)\n",
    "\n",
    "mean_squared_error(y_test, pred)\n"
   ]
  },
  {
   "cell_type": "code",
   "execution_count": null,
   "id": "d3f38452",
   "metadata": {},
   "outputs": [],
   "source": []
  },
  {
   "cell_type": "markdown",
   "id": "549f528d",
   "metadata": {},
   "source": [
    "7. Improving Model Performance with Hyperparameter Tuning\n",
    "\n",
    "You can use GridSearchCV and RandomizedSearchCV from scikit-learn to find the best settings for your model.\n",
    "\n",
    "1) GridSearchCV\n",
    "\n",
    "It tries all possible combinations of settings to find the best one.\n",
    "This can take a lot of time.\n",
    "\n",
    "2) RandomizedSearchCV\n",
    "Instead of checking all combinations, it picks random ones and tries N combinations.\n",
    "It’s faster and still finds good settings in less time."
   ]
  },
  {
   "cell_type": "code",
   "execution_count": 21,
   "id": "a53a4cf0",
   "metadata": {},
   "outputs": [],
   "source": [
    "# import the library of GreidSearchCV, RandomizedSearchCV\n",
    "\n",
    "from sklearn.model_selection import GridSearchCV, RandomizedSearchCV\n"
   ]
  },
  {
   "cell_type": "code",
   "execution_count": 22,
   "id": "ff65ecb6",
   "metadata": {},
   "outputs": [],
   "source": [
    "# Hypermarameter\n",
    "\n",
    "params = {# 'learning_rate':[0.07, 0.05],\n",
    "          'max_depth': [3,5,7],\n",
    "          'n_estimators': [100,200],\n",
    "          # 'subsample': [0.9, 0.8, 0.7]\n",
    "          }"
   ]
  },
  {
   "cell_type": "code",
   "execution_count": 23,
   "id": "8ad0eab5",
   "metadata": {},
   "outputs": [],
   "source": [
    "# Loading Dataset\n",
    "\n",
    "\n",
    "def make_dataset2():\n",
    "    dataset = load_diabetes()\n",
    "    df = pd.DataFrame(dataset.data, columns=dataset.feature_names)\n",
    "    df['target'] = dataset.target\n",
    "    return df.drop('target', axis=1), df['target']\n",
    "\n",
    "X,y = make_dataset2()\n"
   ]
  },
  {
   "cell_type": "code",
   "execution_count": 24,
   "id": "4232423e",
   "metadata": {},
   "outputs": [
    {
     "name": "stderr",
     "output_type": "stream",
     "text": [
      "/opt/conda/lib/python3.9/site-packages/pkg_resources/__init__.py:122: PkgResourcesDeprecationWarning: 0.996-ko-0.9.2 is an invalid version and will not be supported in a future release\n",
      "  warnings.warn(\n",
      "/opt/conda/lib/python3.9/site-packages/pkg_resources/__init__.py:122: PkgResourcesDeprecationWarning: 0.996-ko-0.9.2 is an invalid version and will not be supported in a future release\n",
      "  warnings.warn(\n"
     ]
    },
    {
     "data": {
      "text/plain": [
       "GridSearchCV(cv=3,\n",
       "             estimator=XGBRegressor(base_score=None, booster=None,\n",
       "                                    colsample_bylevel=None,\n",
       "                                    colsample_bynode=None,\n",
       "                                    colsample_bytree=None, gamma=None,\n",
       "                                    gpu_id=None, importance_type='gain',\n",
       "                                    interaction_constraints=None,\n",
       "                                    learning_rate=None, max_delta_step=None,\n",
       "                                    max_depth=None, min_child_weight=None,\n",
       "                                    missing=nan, monotone_constraints=None,\n",
       "                                    n_estimators=100, n_jobs=None,\n",
       "                                    num_parallel_tree=None, random_state=None,\n",
       "                                    reg_alpha=None, reg_lambda=None,\n",
       "                                    scale_pos_weight=None, subsample=None,\n",
       "                                    tree_method=None, validate_parameters=None,\n",
       "                                    verbosity=None),\n",
       "             n_jobs=-1,\n",
       "             param_grid={'max_depth': [3, 5, 7], 'n_estimators': [100, 200]})"
      ]
     },
     "execution_count": 24,
     "metadata": {},
     "output_type": "execute_result"
    }
   ],
   "source": [
    "# GridSearchCV\n",
    "\n",
    "xgb = XGBRegressor()\n",
    "grid = GridSearchCV(xgb, params, cv=3, n_jobs=-1)\n",
    "grid.fit(X,y)"
   ]
  },
  {
   "cell_type": "code",
   "execution_count": 25,
   "id": "652f791c",
   "metadata": {},
   "outputs": [
    {
     "data": {
      "text/plain": [
       "{'max_depth': 3, 'n_estimators': 100}"
      ]
     },
     "execution_count": 25,
     "metadata": {},
     "output_type": "execute_result"
    }
   ],
   "source": [
    "# Optimizing parameters with GridSearchCV\n",
    "\n",
    "grid.best_params_"
   ]
  },
  {
   "cell_type": "code",
   "execution_count": 26,
   "id": "783a41ec",
   "metadata": {},
   "outputs": [
    {
     "data": {
      "text/plain": [
       "2809.687899466801"
      ]
     },
     "execution_count": 26,
     "metadata": {},
     "output_type": "execute_result"
    }
   ],
   "source": [
    "# Tuning Hyperparameters with GridSearchCV\n",
    "\n",
    "xgb = XGBRegressor(\n",
    "    learning_rate = 0.05,\n",
    "    max_depth = 3,\n",
    "    n_estimators = 100,\n",
    "    subsample = 0.7\n",
    ")\n",
    "\n",
    "xgb.fit(X_train, y_train)\n",
    "pred = xgb.predict(X_test)\n",
    "\n",
    "mean_squared_error(y_test, pred)\n"
   ]
  },
  {
   "cell_type": "code",
   "execution_count": 27,
   "id": "d1419157",
   "metadata": {},
   "outputs": [
    {
     "name": "stderr",
     "output_type": "stream",
     "text": [
      "/opt/conda/lib/python3.9/site-packages/sklearn/model_selection/_search.py:292: UserWarning: The total space of parameters 6 is smaller than n_iter=10. Running 6 iterations. For exhaustive searches, use GridSearchCV.\n",
      "  warnings.warn(\n"
     ]
    },
    {
     "data": {
      "text/plain": [
       "RandomizedSearchCV(cv=3,\n",
       "                   estimator=XGBRegressor(base_score=None, booster=None,\n",
       "                                          colsample_bylevel=None,\n",
       "                                          colsample_bynode=None,\n",
       "                                          colsample_bytree=None, gamma=None,\n",
       "                                          gpu_id=None, importance_type='gain',\n",
       "                                          interaction_constraints=None,\n",
       "                                          learning_rate=None,\n",
       "                                          max_delta_step=None, max_depth=None,\n",
       "                                          min_child_weight=None, missing=nan,\n",
       "                                          monotone_constraints=None,\n",
       "                                          n_estimators=100, n_jobs=None,\n",
       "                                          num_parallel_tree=None,\n",
       "                                          random_state=None, reg_alpha=None,\n",
       "                                          reg_lambda=None,\n",
       "                                          scale_pos_weight=None, subsample=None,\n",
       "                                          tree_method=None,\n",
       "                                          validate_parameters=None,\n",
       "                                          verbosity=None),\n",
       "                   n_jobs=-1,\n",
       "                   param_distributions={'max_depth': [3, 5, 7],\n",
       "                                        'n_estimators': [100, 200]})"
      ]
     },
     "execution_count": 27,
     "metadata": {},
     "output_type": "execute_result"
    }
   ],
   "source": [
    "# RandomizedSearchCV\n",
    "\n",
    "xgb = XGBRegressor()\n",
    "rand = RandomizedSearchCV(xgb, params, cv=3, n_iter=10, n_jobs=-1)\n",
    "rand.fit(X,y)"
   ]
  },
  {
   "cell_type": "code",
   "execution_count": 28,
   "id": "a34556c2",
   "metadata": {},
   "outputs": [
    {
     "data": {
      "text/plain": [
       "{'n_estimators': 100, 'max_depth': 3}"
      ]
     },
     "execution_count": 28,
     "metadata": {},
     "output_type": "execute_result"
    }
   ],
   "source": [
    "# Optimizing parameters with RandomizedSearchCV\n",
    "\n",
    "rand.best_params_"
   ]
  },
  {
   "cell_type": "code",
   "execution_count": 29,
   "id": "805c4732",
   "metadata": {},
   "outputs": [
    {
     "data": {
      "text/plain": [
       "2809.687899466801"
      ]
     },
     "execution_count": 29,
     "metadata": {},
     "output_type": "execute_result"
    }
   ],
   "source": [
    "# Tuning Hyperparaeters with RandomizedSearchCF\n",
    "\n",
    "xgb = XGBRegressor(\n",
    "    learning_rate = 0.05,\n",
    "    max_depth = 3,\n",
    "    n_estimators = 100,\n",
    "    subsample = 0.7\n",
    ")\n",
    "\n",
    "xgb.fit(X_train, y_train)\n",
    "pred = xgb.predict(X_test)\n",
    "\n",
    "mean_squared_error(y_test, pred)\n"
   ]
  },
  {
   "cell_type": "code",
   "execution_count": null,
   "id": "6bdcbac6",
   "metadata": {},
   "outputs": [],
   "source": []
  },
  {
   "cell_type": "markdown",
   "id": "8cd8a54e",
   "metadata": {},
   "source": [
    "8. Regression Evaluation Metrics:\n",
    "\n",
    "These are ways to check how well a model predicts numbers. We use these to see if the model's guesses are close to the real values.\n",
    "\n",
    "Types of Evaluation Metrics)\n",
    "\n",
    "- MAE (Mean Absolute Error):\n",
    "This tells us the average \"mistake\" the model makes. It's like how far off the model's guesses are, but we don't care if it's above or below the correct number. It's just how big the mistake is.\n",
    "\n",
    "- MSE (Mean Squared Error):\n",
    "This is similar to MAE, but it squares the mistakes. It means bigger mistakes get a lot more attention than smaller ones. It helps to focus on big errors.\n",
    "\n",
    "- RMSE (Root Mean Squared Error):\n",
    "This is like MSE, but we take the square root at the end to bring it back to the same scale as the original numbers. It's a fancy way to show the average mistake, but it gives more weight to big errors.\n",
    "\n",
    "- RMSLE (Root Mean Squared Logarithmic Error):\n",
    "This one is special. It uses logs (a type of math) to help when the numbers you're predicting can be very different from each other. It works well when we're predicting things like prices or populations.\n",
    "\n",
    "- R² (R-squared):\n",
    "This tells us how much the model's guesses match the real data. It ranges from 0 to 1. If it’s close to 1, it means the model is doing a great job. If it’s closer to 0, it means the model is not so good."
   ]
  },
  {
   "cell_type": "code",
   "execution_count": 31,
   "id": "9c5e321a",
   "metadata": {},
   "outputs": [
    {
     "data": {
      "text/plain": [
       "42.86635401007835"
      ]
     },
     "execution_count": 31,
     "metadata": {},
     "output_type": "execute_result"
    }
   ],
   "source": [
    "# Mean Absolute Error\n",
    "\n",
    "from sklearn.metrics import mean_absolute_error\n",
    "\n",
    "mean_absolute_error(y_test, pred)"
   ]
  },
  {
   "cell_type": "code",
   "execution_count": 32,
   "id": "e6c08795",
   "metadata": {},
   "outputs": [
    {
     "data": {
      "text/plain": [
       "2809.687899466801"
      ]
     },
     "execution_count": 32,
     "metadata": {},
     "output_type": "execute_result"
    }
   ],
   "source": [
    "# Mean Squared Error\n",
    "\n",
    "from sklearn.metrics import mean_squared_error\n",
    "\n",
    "mean_squared_error(y_test, pred)"
   ]
  },
  {
   "cell_type": "code",
   "execution_count": 33,
   "id": "aa57dfd1",
   "metadata": {},
   "outputs": [
    {
     "data": {
      "text/plain": [
       "53.00648922034736"
      ]
     },
     "execution_count": 33,
     "metadata": {},
     "output_type": "execute_result"
    }
   ],
   "source": [
    "# Root Mean Squared Error \n",
    "\n",
    "import numpy as np\n",
    "np.sqrt(mean_squared_error(y_test,pred))"
   ]
  },
  {
   "cell_type": "code",
   "execution_count": 34,
   "id": "76e9c723",
   "metadata": {},
   "outputs": [
    {
     "data": {
      "text/plain": [
       "0.3952020879440222"
      ]
     },
     "execution_count": 34,
     "metadata": {},
     "output_type": "execute_result"
    }
   ],
   "source": [
    "# Root Mean Squared Logarithmic Error \n",
    "\n",
    "from sklearn.metrics import mean_squared_log_error \n",
    "np.sqrt(mean_squared_log_error(y_test, pred))"
   ]
  },
  {
   "cell_type": "code",
   "execution_count": 35,
   "id": "60e08940",
   "metadata": {},
   "outputs": [
    {
     "data": {
      "text/plain": [
       "0.5544170854869348"
      ]
     },
     "execution_count": 35,
     "metadata": {},
     "output_type": "execute_result"
    }
   ],
   "source": [
    "# R-sqaured\n",
    "\n",
    "from sklearn.metrics import r2_score\n",
    "r2_score(y_test, pred)"
   ]
  },
  {
   "cell_type": "code",
   "execution_count": null,
   "id": "3bd55af1",
   "metadata": {},
   "outputs": [],
   "source": []
  }
 ],
 "metadata": {
  "kernelspec": {
   "display_name": "Python 3 (ipykernel)",
   "language": "python",
   "name": "python3"
  },
  "language_info": {
   "codemirror_mode": {
    "name": "ipython",
    "version": 3
   },
   "file_extension": ".py",
   "mimetype": "text/x-python",
   "name": "python",
   "nbconvert_exporter": "python",
   "pygments_lexer": "ipython3",
   "version": "3.9.7"
  }
 },
 "nbformat": 4,
 "nbformat_minor": 5
}
