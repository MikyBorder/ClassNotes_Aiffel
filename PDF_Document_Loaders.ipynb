{
  "cells": [
    {
      "cell_type": "markdown",
      "id": "51fd9159-e8ba-477b-9b20-a22438307df1",
      "metadata": {
        "id": "51fd9159-e8ba-477b-9b20-a22438307df1"
      },
      "source": [
        "## **PDF Loaders**"
      ]
    },
    {
      "cell_type": "code",
      "source": [
        "# 구글 드라이브 연결\n",
        "from google.colab import drive\n",
        "drive.mount('/content/drive')"
      ],
      "metadata": {
        "id": "NSTFyL4mtyYr",
        "colab": {
          "base_uri": "https://localhost:8080/"
        },
        "outputId": "fea087dc-b329-49d1-e6dc-02dbf87fac97"
      },
      "id": "NSTFyL4mtyYr",
      "execution_count": 1,
      "outputs": [
        {
          "output_type": "stream",
          "name": "stdout",
          "text": [
            "Drive already mounted at /content/drive; to attempt to forcibly remount, call drive.mount(\"/content/drive\", force_remount=True).\n"
          ]
        }
      ]
    },
    {
      "cell_type": "code",
      "execution_count": 2,
      "id": "5783fe14-26b1-4488-8c03-88d254f43ca9",
      "metadata": {
        "id": "5783fe14-26b1-4488-8c03-88d254f43ca9",
        "colab": {
          "base_uri": "https://localhost:8080/"
        },
        "outputId": "e1c7c584-fe6e-4726-8fe8-e73d1504c7df"
      },
      "outputs": [
        {
          "output_type": "stream",
          "name": "stdout",
          "text": [
            "Requirement already satisfied: langchain in /usr/local/lib/python3.10/dist-packages (0.3.14)\n",
            "Requirement already satisfied: langchain-community in /usr/local/lib/python3.10/dist-packages (0.3.14)\n",
            "Requirement already satisfied: pypdf in /usr/local/lib/python3.10/dist-packages (5.1.0)\n",
            "Requirement already satisfied: PyYAML>=5.3 in /usr/local/lib/python3.10/dist-packages (from langchain) (6.0.2)\n",
            "Requirement already satisfied: SQLAlchemy<3,>=1.4 in /usr/local/lib/python3.10/dist-packages (from langchain) (2.0.36)\n",
            "Requirement already satisfied: aiohttp<4.0.0,>=3.8.3 in /usr/local/lib/python3.10/dist-packages (from langchain) (3.11.10)\n",
            "Requirement already satisfied: async-timeout<5.0.0,>=4.0.0 in /usr/local/lib/python3.10/dist-packages (from langchain) (4.0.3)\n",
            "Requirement already satisfied: langchain-core<0.4.0,>=0.3.29 in /usr/local/lib/python3.10/dist-packages (from langchain) (0.3.29)\n",
            "Requirement already satisfied: langchain-text-splitters<0.4.0,>=0.3.3 in /usr/local/lib/python3.10/dist-packages (from langchain) (0.3.3)\n",
            "Requirement already satisfied: langsmith<0.3,>=0.1.17 in /usr/local/lib/python3.10/dist-packages (from langchain) (0.2.3)\n",
            "Requirement already satisfied: numpy<2,>=1.22.4 in /usr/local/lib/python3.10/dist-packages (from langchain) (1.26.4)\n",
            "Requirement already satisfied: pydantic<3.0.0,>=2.7.4 in /usr/local/lib/python3.10/dist-packages (from langchain) (2.10.3)\n",
            "Requirement already satisfied: requests<3,>=2 in /usr/local/lib/python3.10/dist-packages (from langchain) (2.32.3)\n",
            "Requirement already satisfied: tenacity!=8.4.0,<10,>=8.1.0 in /usr/local/lib/python3.10/dist-packages (from langchain) (9.0.0)\n",
            "Requirement already satisfied: dataclasses-json<0.7,>=0.5.7 in /usr/local/lib/python3.10/dist-packages (from langchain-community) (0.6.7)\n",
            "Requirement already satisfied: httpx-sse<0.5.0,>=0.4.0 in /usr/local/lib/python3.10/dist-packages (from langchain-community) (0.4.0)\n",
            "Requirement already satisfied: pydantic-settings<3.0.0,>=2.4.0 in /usr/local/lib/python3.10/dist-packages (from langchain-community) (2.7.1)\n",
            "Requirement already satisfied: typing_extensions>=4.0 in /usr/local/lib/python3.10/dist-packages (from pypdf) (4.12.2)\n",
            "Requirement already satisfied: aiohappyeyeballs>=2.3.0 in /usr/local/lib/python3.10/dist-packages (from aiohttp<4.0.0,>=3.8.3->langchain) (2.4.4)\n",
            "Requirement already satisfied: aiosignal>=1.1.2 in /usr/local/lib/python3.10/dist-packages (from aiohttp<4.0.0,>=3.8.3->langchain) (1.3.2)\n",
            "Requirement already satisfied: attrs>=17.3.0 in /usr/local/lib/python3.10/dist-packages (from aiohttp<4.0.0,>=3.8.3->langchain) (24.3.0)\n",
            "Requirement already satisfied: frozenlist>=1.1.1 in /usr/local/lib/python3.10/dist-packages (from aiohttp<4.0.0,>=3.8.3->langchain) (1.5.0)\n",
            "Requirement already satisfied: multidict<7.0,>=4.5 in /usr/local/lib/python3.10/dist-packages (from aiohttp<4.0.0,>=3.8.3->langchain) (6.1.0)\n",
            "Requirement already satisfied: propcache>=0.2.0 in /usr/local/lib/python3.10/dist-packages (from aiohttp<4.0.0,>=3.8.3->langchain) (0.2.1)\n",
            "Requirement already satisfied: yarl<2.0,>=1.17.0 in /usr/local/lib/python3.10/dist-packages (from aiohttp<4.0.0,>=3.8.3->langchain) (1.18.3)\n",
            "Requirement already satisfied: marshmallow<4.0.0,>=3.18.0 in /usr/local/lib/python3.10/dist-packages (from dataclasses-json<0.7,>=0.5.7->langchain-community) (3.23.3)\n",
            "Requirement already satisfied: typing-inspect<1,>=0.4.0 in /usr/local/lib/python3.10/dist-packages (from dataclasses-json<0.7,>=0.5.7->langchain-community) (0.9.0)\n",
            "Requirement already satisfied: jsonpatch<2.0,>=1.33 in /usr/local/lib/python3.10/dist-packages (from langchain-core<0.4.0,>=0.3.29->langchain) (1.33)\n",
            "Requirement already satisfied: packaging<25,>=23.2 in /usr/local/lib/python3.10/dist-packages (from langchain-core<0.4.0,>=0.3.29->langchain) (24.2)\n",
            "Requirement already satisfied: httpx<1,>=0.23.0 in /usr/local/lib/python3.10/dist-packages (from langsmith<0.3,>=0.1.17->langchain) (0.28.1)\n",
            "Requirement already satisfied: orjson<4.0.0,>=3.9.14 in /usr/local/lib/python3.10/dist-packages (from langsmith<0.3,>=0.1.17->langchain) (3.10.12)\n",
            "Requirement already satisfied: requests-toolbelt<2.0.0,>=1.0.0 in /usr/local/lib/python3.10/dist-packages (from langsmith<0.3,>=0.1.17->langchain) (1.0.0)\n",
            "Requirement already satisfied: annotated-types>=0.6.0 in /usr/local/lib/python3.10/dist-packages (from pydantic<3.0.0,>=2.7.4->langchain) (0.7.0)\n",
            "Requirement already satisfied: pydantic-core==2.27.1 in /usr/local/lib/python3.10/dist-packages (from pydantic<3.0.0,>=2.7.4->langchain) (2.27.1)\n",
            "Requirement already satisfied: python-dotenv>=0.21.0 in /usr/local/lib/python3.10/dist-packages (from pydantic-settings<3.0.0,>=2.4.0->langchain-community) (1.0.1)\n",
            "Requirement already satisfied: charset-normalizer<4,>=2 in /usr/local/lib/python3.10/dist-packages (from requests<3,>=2->langchain) (3.4.0)\n",
            "Requirement already satisfied: idna<4,>=2.5 in /usr/local/lib/python3.10/dist-packages (from requests<3,>=2->langchain) (3.10)\n",
            "Requirement already satisfied: urllib3<3,>=1.21.1 in /usr/local/lib/python3.10/dist-packages (from requests<3,>=2->langchain) (2.2.3)\n",
            "Requirement already satisfied: certifi>=2017.4.17 in /usr/local/lib/python3.10/dist-packages (from requests<3,>=2->langchain) (2024.12.14)\n",
            "Requirement already satisfied: greenlet!=0.4.17 in /usr/local/lib/python3.10/dist-packages (from SQLAlchemy<3,>=1.4->langchain) (3.1.1)\n",
            "Requirement already satisfied: anyio in /usr/local/lib/python3.10/dist-packages (from httpx<1,>=0.23.0->langsmith<0.3,>=0.1.17->langchain) (3.7.1)\n",
            "Requirement already satisfied: httpcore==1.* in /usr/local/lib/python3.10/dist-packages (from httpx<1,>=0.23.0->langsmith<0.3,>=0.1.17->langchain) (1.0.7)\n",
            "Requirement already satisfied: h11<0.15,>=0.13 in /usr/local/lib/python3.10/dist-packages (from httpcore==1.*->httpx<1,>=0.23.0->langsmith<0.3,>=0.1.17->langchain) (0.14.0)\n",
            "Requirement already satisfied: jsonpointer>=1.9 in /usr/local/lib/python3.10/dist-packages (from jsonpatch<2.0,>=1.33->langchain-core<0.4.0,>=0.3.29->langchain) (3.0.0)\n",
            "Requirement already satisfied: mypy-extensions>=0.3.0 in /usr/local/lib/python3.10/dist-packages (from typing-inspect<1,>=0.4.0->dataclasses-json<0.7,>=0.5.7->langchain-community) (1.0.0)\n",
            "Requirement already satisfied: sniffio>=1.1 in /usr/local/lib/python3.10/dist-packages (from anyio->httpx<1,>=0.23.0->langsmith<0.3,>=0.1.17->langchain) (1.3.1)\n",
            "Requirement already satisfied: exceptiongroup in /usr/local/lib/python3.10/dist-packages (from anyio->httpx<1,>=0.23.0->langsmith<0.3,>=0.1.17->langchain) (1.2.2)\n"
          ]
        }
      ],
      "source": [
        "# #필수 라이브러리 설치\n",
        "!pip install langchain langchain-community pypdf"
      ]
    },
    {
      "cell_type": "markdown",
      "id": "2ad7618e-ecf1-4c0c-a057-1144943e1396",
      "metadata": {
        "id": "2ad7618e-ecf1-4c0c-a057-1144943e1396"
      },
      "source": [
        "**[이미지+텍스트 페이지 내 텍스트 추출]**"
      ]
    },
    {
      "cell_type": "code",
      "execution_count": 3,
      "id": "99b0a25c-65ff-4a57-849d-448f3165d563",
      "metadata": {
        "id": "99b0a25c-65ff-4a57-849d-448f3165d563",
        "colab": {
          "base_uri": "https://localhost:8080/"
        },
        "outputId": "12e73a8e-c94a-4ffa-d5fd-72299bc241ae"
      },
      "outputs": [
        {
          "output_type": "stream",
          "name": "stdout",
          "text": [
            "| 6 | CIS이슈리포트 2022-2호 \n",
            "▶(주요품목① : 5G 이동통신) 정보통신 테마 내 기술분야 중 혁신성장 정책금융 공급규모가 가장 큰 차세대무선통신미디어 분야의 경우 4G/5G 기술품목의 정책금융 공급 비중이 가장 높은 것으로 확인됨[차세대무선통신미디어 분야 내 기술품목별 혁신성장 정책금융 공급액 추이](단위: 억 원)\n",
            "▶5G 이동통신 시스템은 ITU(International Telecommunication Union)가 정의한 5세대 이동통신 규격을 만족시키는 무선 이동통신 네트워크 기술로, 2019년부터 국내 서비스를 시작함￮4G 이동통신 시스템(LTE)과 비교할 때 전송속도의 향상(1Gbps→20Gbps), 이동성 향상(350km/h→500km/h에서 끊김없는 데이터 전송 가능), 최대 연결가능 기기수 증가(10만 대 →100만 대 이상), 데이터 전송지연 감소(10ms→1ms) 등의 향상된 기능을 제공함￮5G는 전송속도 향상, 다수기기 접속 및 지연시간 단축을 위해 ①밀리미터파 통신이 가능한 주파수 확장, ②스몰셀(Small cell)을 도입한 기지국, ③다중안테나 송수신(Massive MIMO), ④네트워크 슬라이싱(Network Slicing) 등의 기술을 도입함[5G 주요 요소기술 특징]\n",
            "자료: 삼정 KPMG\n"
          ]
        }
      ],
      "source": [
        "#PyPDFLoader 불러오기\n",
        "from langchain.document_loaders import PyPDFLoader\n",
        "filename = \"/content/drive/MyDrive/RAG/data/[이슈리포트 2022-2호] 혁신성장 정책금융 동향.pdf\"\n",
        "# PDF파일 불러올 객체 PyPDFLoader 선언\n",
        "loader = PyPDFLoader(filename)\n",
        "\n",
        "# PDF파일 로드 및 페이지별로 자르기\n",
        "pages = loader.load_and_split()\n",
        "print(pages[5].page_content)"
      ]
    },
    {
      "cell_type": "markdown",
      "id": "ae9af824-f25b-473c-93e2-8ca6ce8983e9",
      "metadata": {
        "id": "ae9af824-f25b-473c-93e2-8ca6ce8983e9"
      },
      "source": [
        "**[OCR 기능 활용하여 이미지-텍스트 혼합 페이지 내 텍스트 추출하기]**"
      ]
    },
    {
      "cell_type": "code",
      "execution_count": 4,
      "id": "c68bdbf8-8722-40a9-90f2-77464a89e46c",
      "metadata": {
        "id": "c68bdbf8-8722-40a9-90f2-77464a89e46c",
        "colab": {
          "base_uri": "https://localhost:8080/"
        },
        "outputId": "a8c45ccf-d9f6-450d-b822-8937202a8642"
      },
      "outputs": [
        {
          "output_type": "stream",
          "name": "stdout",
          "text": [
            "Requirement already satisfied: rapidocr-onnxruntime in /usr/local/lib/python3.10/dist-packages (1.4.3)\n",
            "Requirement already satisfied: pyclipper>=1.2.0 in /usr/local/lib/python3.10/dist-packages (from rapidocr-onnxruntime) (1.3.0.post6)\n",
            "Requirement already satisfied: opencv-python>=4.5.1.48 in /usr/local/lib/python3.10/dist-packages (from rapidocr-onnxruntime) (4.10.0.84)\n",
            "Requirement already satisfied: numpy<3.0.0,>=1.19.5 in /usr/local/lib/python3.10/dist-packages (from rapidocr-onnxruntime) (1.26.4)\n",
            "Requirement already satisfied: six>=1.15.0 in /usr/local/lib/python3.10/dist-packages (from rapidocr-onnxruntime) (1.17.0)\n",
            "Requirement already satisfied: Shapely!=2.0.4,>=1.7.1 in /usr/local/lib/python3.10/dist-packages (from rapidocr-onnxruntime) (2.0.6)\n",
            "Requirement already satisfied: PyYAML in /usr/local/lib/python3.10/dist-packages (from rapidocr-onnxruntime) (6.0.2)\n",
            "Requirement already satisfied: Pillow in /usr/local/lib/python3.10/dist-packages (from rapidocr-onnxruntime) (11.0.0)\n",
            "Requirement already satisfied: onnxruntime>=1.7.0 in /usr/local/lib/python3.10/dist-packages (from rapidocr-onnxruntime) (1.20.1)\n",
            "Requirement already satisfied: tqdm in /usr/local/lib/python3.10/dist-packages (from rapidocr-onnxruntime) (4.67.1)\n",
            "Requirement already satisfied: coloredlogs in /usr/local/lib/python3.10/dist-packages (from onnxruntime>=1.7.0->rapidocr-onnxruntime) (15.0.1)\n",
            "Requirement already satisfied: flatbuffers in /usr/local/lib/python3.10/dist-packages (from onnxruntime>=1.7.0->rapidocr-onnxruntime) (24.3.25)\n",
            "Requirement already satisfied: packaging in /usr/local/lib/python3.10/dist-packages (from onnxruntime>=1.7.0->rapidocr-onnxruntime) (24.2)\n",
            "Requirement already satisfied: protobuf in /usr/local/lib/python3.10/dist-packages (from onnxruntime>=1.7.0->rapidocr-onnxruntime) (4.25.5)\n",
            "Requirement already satisfied: sympy in /usr/local/lib/python3.10/dist-packages (from onnxruntime>=1.7.0->rapidocr-onnxruntime) (1.13.1)\n",
            "Requirement already satisfied: humanfriendly>=9.1 in /usr/local/lib/python3.10/dist-packages (from coloredlogs->onnxruntime>=1.7.0->rapidocr-onnxruntime) (10.0)\n",
            "Requirement already satisfied: mpmath<1.4,>=1.1.0 in /usr/local/lib/python3.10/dist-packages (from sympy->onnxruntime>=1.7.0->rapidocr-onnxruntime) (1.3.0)\n"
          ]
        }
      ],
      "source": [
        "# #OCR기능 위해 설치\n",
        "!pip install rapidocr-onnxruntime"
      ]
    },
    {
      "cell_type": "markdown",
      "id": "a36f3829-bcd0-4f27-b0af-d960db8af1e8",
      "metadata": {
        "id": "a36f3829-bcd0-4f27-b0af-d960db8af1e8"
      },
      "source": [
        "*아래 셀은 실행 시 많은 시간이 소요됩니다."
      ]
    },
    {
      "cell_type": "code",
      "execution_count": 5,
      "id": "be08e923-c8dd-403e-b69e-f0074c7dcc2b",
      "metadata": {
        "id": "be08e923-c8dd-403e-b69e-f0074c7dcc2b",
        "colab": {
          "base_uri": "https://localhost:8080/"
        },
        "outputId": "0121abfd-0b5b-4bbc-bc44-fb2eda666ef4"
      },
      "outputs": [
        {
          "output_type": "stream",
          "name": "stdout",
          "text": [
            "| 6 | CIS이슈리포트 2022-2호 \n",
            "▶(주요품목① : 5G 이동통신) 정보통신 테마 내 기술분야 중 혁신성장 정책금융 공급규모가 가장 큰 차세대무선통신미디어 분야의 경우 4G/5G 기술품목의 정책금융 공급 비중이 가장 높은 것으로 확인됨[차세대무선통신미디어 분야 내 기술품목별 혁신성장 정책금융 공급액 추이](단위: 억 원)\n",
            "▶5G 이동통신 시스템은 ITU(International Telecommunication Union)가 정의한 5세대 이동통신 규격을 만족시키는 무선 이동통신 네트워크 기술로, 2019년부터 국내 서비스를 시작함￮4G 이동통신 시스템(LTE)과 비교할 때 전송속도의 향상(1Gbps→20Gbps), 이동성 향상(350km/h→500km/h에서 끊김없는 데이터 전송 가능), 최대 연결가능 기기수 증가(10만 대 →100만 대 이상), 데이터 전송지연 감소(10ms→1ms) 등의 향상된 기능을 제공함￮5G는 전송속도 향상, 다수기기 접속 및 지연시간 단축을 위해 ①밀리미터파 통신이 가능한 주파수 확장, ②스몰셀(Small cell)을 도입한 기지국, ③다중안테나 송수신(Massive MIMO), ④네트워크 슬라이싱(Network Slicing) 등의 기술을 도입함[5G 주요 요소기술 특징]\n",
            "자료: 삼정 KPMG25,000\n",
            "20,000\n",
            "15,000\n",
            "10,000\n",
            "RO\n",
            "5,000\n",
            "2017\n",
            "2018\n",
            "2019\n",
            "2020\n",
            "2021\n",
            "4G/5G\n",
            "(loT,M2M)\n",
            "■吾号MassiveMMO+\n",
            "4G5G\n",
            "（）\n",
            "4G\n",
            "4G\n",
            "5G\n",
            "2.6Ghz\n",
            "品号\n",
            "3.5Ghz\n",
            "28Ghz\n",
            "（m）\n",
            "5G\n",
            "（1k0H）\n",
            "loboly\n",
            "Massive\n",
            "（km）\n",
            "loT\n",
            "5G3.5Ghz28Ghz0\n",
            "MassiveMIMOEI\n",
            "舍Korea\n",
            "Credit Information\n",
            "Services\n"
          ]
        }
      ],
      "source": [
        "#PyPDFLoader 불러오기\n",
        "from langchain.document_loaders import PyPDFLoader\n",
        "\n",
        "# PDF파일 불러올 객체 PyPDFLoader 선언(extract_images 매개변수로 OCR 수행)\n",
        "loader = PyPDFLoader(filename, extract_images=True)\n",
        "\n",
        "# PDF파일 로드 및 페이지별로 자르기\n",
        "pages = loader.load_and_split()\n",
        "print(pages[5].page_content)"
      ]
    },
    {
      "cell_type": "markdown",
      "id": "ee45f1ad-3e43-4573-803c-a778ea6c4f3b",
      "metadata": {
        "id": "ee45f1ad-3e43-4573-803c-a778ea6c4f3b"
      },
      "source": [
        "**[페이지 내 테이블 추출하기]**"
      ]
    },
    {
      "cell_type": "code",
      "execution_count": 6,
      "id": "5952aae1-ad13-403c-8a97-798b8977a166",
      "metadata": {
        "id": "5952aae1-ad13-403c-8a97-798b8977a166",
        "colab": {
          "base_uri": "https://localhost:8080/"
        },
        "outputId": "b609fd4d-83ef-4329-da53-525d25019bd8"
      },
      "outputs": [
        {
          "output_type": "stream",
          "name": "stdout",
          "text": [
            "page_content='| 4 | CIS이슈리포트 2022-2호 \n",
            "[혁신성장 ICT 산업 정책금융 공급 현황]                                                            (단위: 억 원, 괄호는 점유율 %)구분2017년 말2018년 말2019년 말2020년 말2021년 말혁신성장 ICT 산업45,075 72,799 81,805 139,687 169,089 (18.7)(20.7)(18.5)(20.3)(19.8)정보통신15,658 27,417 39,033 65,324 77,750 (6.5)(7.8)(8.8)(9.5)(9.1)전기전자26,637 38,521 35,922 62,856 77,485 (11.1)(10.9)(8.1)(9.1)(9.1)센서측정2,780 6,861 6,851 11,506 13,854 (1.2)(1.9)(1.5)(1.7)(1.6)혁신성장 정책금융 총 공급액240,787 351,987 443,180 688,409 854,338 3. 정보통신 테마 혁신성장 정책금융 현황 및 관련 산업 동향▶(지원 현황) 정보통신 테마를 구성하는 기술분야별 정책금융 지원 현황 분석결과, 공급점유율 관점에서는 차세대무선통신미디어 분야에 가장 많은 정책자금이 투입 되고 있으며, 공급량 증가율 관점에서는 능동형컴퓨팅 분야로의 정책자금 지원 증가 속도가 가장 빠른 추세임￮차세대무선통신미디어란 전송속도 향상, 소모전력 절감, 고속이동 중 끊김없는 통신 등 새로운 무선환경에 필요한 통신, 인프라 및 서비스 기술을 통칭하며, 4G/5G/6G, 사물인터넷, 방송통신인프라 등의 품목으로 구성됨-정보통신 테마 내 혁신성장 정책금융 공급 규모의 약 50%를 점유하고 있으며, 이는 초연결 미래사회를 구축하기 위해 네트워크 기반 기술 사업화에 대한 정책자금 공급이 꾸준함에 따른 것으로 분석됨￮능동형컴퓨팅이란 거대하고 복잡해지는 데이터의 효율적 가공과 관리를 위한 인간두뇌와 유사한 형태의 정보처리기술을 말하며, 인공지능, 상황인지컴퓨팅 등의 품목으로 구성됨-컴퓨팅 기술을 활용한 다양한 사업화가 활발히 진행되고 있어 혁신성장 정책금융 공급 규모가 매년 약 100% 수준으로 증가하고 있으며, 새정부의 ‘미래 먹거리산업 신성장 전략추진*’에 따라 인공지능 관련 기술로의 금융지원이 늘어날 것으로 전망됨       * 에너지, 방산, 우주항공, 인공지능(AI), 바이오, 탄소중립 대응, 스마트농업을 차세대 6대 먹거리 산업으로 선정' metadata={'source': '/content/drive/MyDrive/RAG/data/[이슈리포트 2022-2호] 혁신성장 정책금융 동향.pdf', 'page': 3}\n"
          ]
        }
      ],
      "source": [
        "#PyPDFLoader 불러오기\n",
        "from langchain.document_loaders import PyPDFLoader\n",
        "\n",
        "# PDF파일 불러올 객체 PyPDFLoader 선언\n",
        "loader = PyPDFLoader(filename)\n",
        "\n",
        "# PDF파일 로드 및 페이지별로 자르기\n",
        "pages = loader.load_and_split()\n",
        "print(pages[3])"
      ]
    },
    {
      "cell_type": "markdown",
      "id": "9a1810c5-ca25-48cf-9714-bbf59029d205",
      "metadata": {
        "id": "9a1810c5-ca25-48cf-9714-bbf59029d205"
      },
      "source": [
        "### **PyPDFium2**"
      ]
    },
    {
      "cell_type": "markdown",
      "id": "e381093d-0740-44db-9166-6f944803eaef",
      "metadata": {
        "id": "e381093d-0740-44db-9166-6f944803eaef"
      },
      "source": [
        "**[이미지+텍스트 페이지 내 텍스트 추출]**"
      ]
    },
    {
      "cell_type": "code",
      "execution_count": 7,
      "id": "a57e532a-ca50-463d-b2f9-8bf5c4b91e4b",
      "metadata": {
        "id": "a57e532a-ca50-463d-b2f9-8bf5c4b91e4b",
        "colab": {
          "base_uri": "https://localhost:8080/"
        },
        "outputId": "c99bbe37-d401-4bb0-843e-e222503d66e8"
      },
      "outputs": [
        {
          "output_type": "stream",
          "name": "stdout",
          "text": [
            "Requirement already satisfied: pypdfium2 in /usr/local/lib/python3.10/dist-packages (4.30.1)\n"
          ]
        }
      ],
      "source": [
        "# #PyPDFium2 설치\n",
        "!pip install pypdfium2"
      ]
    },
    {
      "cell_type": "code",
      "execution_count": 8,
      "id": "75a43510-2e68-4a64-bb7a-f49895429e11",
      "metadata": {
        "id": "75a43510-2e68-4a64-bb7a-f49895429e11",
        "colab": {
          "base_uri": "https://localhost:8080/"
        },
        "outputId": "6ebd742f-938f-4966-a1ed-366cb67933ac"
      },
      "outputs": [
        {
          "output_type": "stream",
          "name": "stdout",
          "text": [
            "| 6 | CIS이슈리포트 2022-2호 \r\n",
            "▶ (주요품목① : 5G 이동통신) 정보통신 테마 내 기술분야 중 혁신성장 정책금융 공급규모가 가장 큰\r\n",
            "차세대무선통신미디어 분야의 경우 4G/5G 기술품목의 정책금융 공급 비중이 가장 높은 것으로 확인됨\r\n",
            "[차세대무선통신미디어 분야 내 기술품목별 혁신성장 정책금융 공급액 추이]\r\n",
            "(단위: 억 원)\r\n",
            "▶ 5G 이동통신 시스템은 ITU(International Telecommunication Union)가 정의한 5세대 이동통신\r\n",
            "규격을 만족시키는 무선 이동통신 네트워크 기술로, 2019년부터 국내 서비스를 시작함\r\n",
            "￮ 4G 이동통신 시스템(LTE)과 비교할 때 전송속도의 향상(1Gbps→20Gbps), 이동성 향상\r\n",
            "(350km/h→500km/h에서 끊김없는 데이터 전송 가능), 최대 연결가능 기기수 증가(10만 대 →\r\n",
            "100만 대 이상), 데이터 전송지연 감소(10ms→1ms) 등의 향상된 기능을 제공함\r\n",
            "￮ 5G는 전송속도 향상, 다수기기 접속 및 지연시간 단축을 위해 ①밀리미터파 통신이 가능한 주파수 \r\n",
            "확장, ②스몰셀(Small cell)을 도입한 기지국, ③다중안테나 송수신(Massive MIMO), ④네트워크 \r\n",
            "슬라이싱(Network Slicing) 등의 기술을 도입함\r\n",
            "[5G 주요 요소기술 특징]\r\n",
            "자료: 삼정 KPMG\n",
            "\n"
          ]
        },
        {
          "output_type": "stream",
          "name": "stderr",
          "text": [
            "/usr/local/lib/python3.10/dist-packages/pypdfium2/_helpers/textpage.py:80: UserWarning: get_text_range() call with default params will be implicitly redirected to get_text_bounded()\n",
            "  warnings.warn(\"get_text_range() call with default params will be implicitly redirected to get_text_bounded()\")\n"
          ]
        }
      ],
      "source": [
        "#PyPDFium2 불러오기\n",
        "from langchain.document_loaders import PyPDFium2Loader\n",
        "\n",
        "# PDF파일 불러올 객체 PyPDFium2Loader 선언\n",
        "loader = PyPDFium2Loader(filename)\n",
        "\n",
        "# PDF파일 로드 및 페이지별로 자르기(PyPDFium2는 load_and_split 함수 없이도 페이지별로 자름)\n",
        "data = loader.load()\n",
        "print(data[5].page_content)"
      ]
    },
    {
      "cell_type": "markdown",
      "id": "b35cfbc8-a246-42f5-8ff1-68101515ddff",
      "metadata": {
        "id": "b35cfbc8-a246-42f5-8ff1-68101515ddff"
      },
      "source": [
        "**[페이지 내 테이블 추출하기]**"
      ]
    },
    {
      "cell_type": "code",
      "execution_count": 9,
      "id": "945a0cac-2b3d-4f60-8af8-9f733f54fc98",
      "metadata": {
        "id": "945a0cac-2b3d-4f60-8af8-9f733f54fc98",
        "colab": {
          "base_uri": "https://localhost:8080/"
        },
        "outputId": "8c6200c9-d5fb-4d1c-fe19-b35c09c183ac"
      },
      "outputs": [
        {
          "output_type": "stream",
          "name": "stdout",
          "text": [
            "| 4 | CIS이슈리포트 2022-2호 \r\n",
            "[혁신성장 ICT 산업 정책금융 공급 현황]\r\n",
            " (단위: 억 원, 괄호는 점유율 %)\r\n",
            "구분 2017년 말 2018년 말 2019년 말 2020년 말 2021년 말\r\n",
            "혁신성장 ICT 산업\r\n",
            "45,075 72,799 81,805 139,687 169,089 \r\n",
            "(18.7) (20.7) (18.5) (20.3) (19.8)\r\n",
            "정보통신\r\n",
            "15,658 27,417 39,033 65,324 77,750 \r\n",
            "(6.5) (7.8) (8.8) (9.5) (9.1)\r\n",
            "전기전자\r\n",
            "26,637 38,521 35,922 62,856 77,485 \r\n",
            "(11.1) (10.9) (8.1) (9.1) (9.1)\r\n",
            "센서측정\r\n",
            "2,780 6,861 6,851 11,506 13,854 \r\n",
            "(1.2) (1.9) (1.5) (1.7) (1.6)\r\n",
            "혁신성장 정책금융 \r\n",
            "총 공급액 240,787 351,987 443,180 688,409 854,338 \r\n",
            "3. 정보통신 테마 혁신성장 정책금융 현황 및 관련 산업 동향\r\n",
            "▶ (지원 현황) 정보통신 테마를 구성하는 기술분야별 정책금융 지원 현황 분석결과, 공급점유율 관점\r\n",
            "에서는 차세대무선통신미디어 분야에 가장 많은 정책자금이 투입 되고 있으며, 공급량 증가율 관점\r\n",
            "에서는 능동형컴퓨팅 분야로의 정책자금 지원 증가 속도가 가장 빠른 추세임\r\n",
            "￮ 차세대무선통신미디어란 전송속도 향상, 소모전력 절감, 고속이동 중 끊김없는 통신 등 새로운 무선\r\n",
            "환경에 필요한 통신, 인프라 및 서비스 기술을 통칭하며, 4G/5G/6G, 사물인터넷, 방송통신인프라 \r\n",
            "등의 품목으로 구성됨\r\n",
            "- 정보통신 테마 내 혁신성장 정책금융 공급 규모의 약 50%를 점유하고 있으며, 이는 초연결 미래\r\n",
            "사회를 구축하기 위해 네트워크 기반 기술 사업화에 대한 정책자금 공급이 꾸준함에 따른 것으로 \r\n",
            "분석됨\r\n",
            "￮ 능동형컴퓨팅이란 거대하고 복잡해지는 데이터의 효율적 가공과 관리를 위한 인간두뇌와 유사한 \r\n",
            "형태의 정보처리기술을 말하며, 인공지능, 상황인지컴퓨팅 등의 품목으로 구성됨\r\n",
            "- 컴퓨팅 기술을 활용한 다양한 사업화가 활발히 진행되고 있어 혁신성장 정책금융 공급 규모가 매년\r\n",
            "약 100% 수준으로 증가하고 있으며, 새정부의 ‘미래 먹거리산업 신성장 전략추진*’에 따라 인공\r\n",
            "지능 관련 기술로의 금융지원이 늘어날 것으로 전망됨\r\n",
            " * 에너지, 방산, 우주항공, 인공지능(AI), 바이오, 탄소중립 대응, 스마트농업을 차세대 6대 먹거리 산업으로 선정\n",
            "\n"
          ]
        }
      ],
      "source": [
        "#PyPDFium2 불러오기\n",
        "from langchain.document_loaders import PyPDFium2Loader\n",
        "\n",
        "# PDF파일 불러올 객체 PyPDFium2Loader 선언\n",
        "loader = PyPDFium2Loader(filename)\n",
        "\n",
        "# PDF파일 로드 및 페이지별로 자르기(PyPDFium2는 load_and_split 함수 없이도 페이지별로 자름)\n",
        "data = loader.load()\n",
        "print(data[3].page_content)"
      ]
    },
    {
      "cell_type": "markdown",
      "id": "ec348480-4b57-4830-997e-62794e8dc259",
      "metadata": {
        "id": "ec348480-4b57-4830-997e-62794e8dc259"
      },
      "source": [
        "### **PyPDFLoader vs PyPDFium2Loader**"
      ]
    },
    {
      "cell_type": "markdown",
      "id": "2eab9ad4-e454-47ed-9642-f4a7a6c592cf",
      "metadata": {
        "id": "2eab9ad4-e454-47ed-9642-f4a7a6c592cf"
      },
      "source": [
        "**[PyPDFLoader의 텍스트 추출 소요 시간]**"
      ]
    },
    {
      "cell_type": "code",
      "execution_count": 10,
      "id": "0c20b0fd-6f8d-48c4-bd0b-728f7a243cc4",
      "metadata": {
        "id": "0c20b0fd-6f8d-48c4-bd0b-728f7a243cc4",
        "colab": {
          "base_uri": "https://localhost:8080/"
        },
        "outputId": "c54462b3-3b6c-4d8d-9944-0155f5e18d99"
      },
      "outputs": [
        {
          "output_type": "stream",
          "name": "stdout",
          "text": [
            "CPU times: user 5.36 s, sys: 24.3 ms, total: 5.38 s\n",
            "Wall time: 8.85 s\n"
          ]
        }
      ],
      "source": [
        "%%time\n",
        "from langchain.document_loaders import PyPDFLoader\n",
        "\n",
        "loader = PyPDFLoader(filename)\n",
        "\n",
        "pages = loader.load_and_split()"
      ]
    },
    {
      "cell_type": "markdown",
      "id": "4a1aaacc-1bc8-434a-826e-5fd05273884c",
      "metadata": {
        "id": "4a1aaacc-1bc8-434a-826e-5fd05273884c"
      },
      "source": [
        "**[PyPDFium2의 텍스트 추출 소요 시간]**"
      ]
    },
    {
      "cell_type": "code",
      "execution_count": 11,
      "id": "998e311c-95ce-4b98-814d-5e1ccc16c2a4",
      "metadata": {
        "id": "998e311c-95ce-4b98-814d-5e1ccc16c2a4",
        "colab": {
          "base_uri": "https://localhost:8080/"
        },
        "outputId": "9948034c-adbe-45a6-d853-4b4ad1a2c366"
      },
      "outputs": [
        {
          "output_type": "stream",
          "name": "stdout",
          "text": [
            "CPU times: user 232 ms, sys: 10.9 ms, total: 243 ms\n",
            "Wall time: 367 ms\n"
          ]
        }
      ],
      "source": [
        "%%time\n",
        "from langchain.document_loaders import PyPDFium2Loader\n",
        "\n",
        "loader = PyPDFium2Loader(filename)\n",
        "\n",
        "pages = loader.load()"
      ]
    },
    {
      "cell_type": "code",
      "execution_count": 11,
      "id": "d62dab6c-efb0-4d8d-ace8-972240741f8f",
      "metadata": {
        "id": "d62dab6c-efb0-4d8d-ace8-972240741f8f"
      },
      "outputs": [],
      "source": []
    }
  ],
  "metadata": {
    "colab": {
      "provenance": []
    },
    "kernelspec": {
      "display_name": "Python 3 (ipykernel)",
      "language": "python",
      "name": "python3"
    },
    "language_info": {
      "codemirror_mode": {
        "name": "ipython",
        "version": 3
      },
      "file_extension": ".py",
      "mimetype": "text/x-python",
      "name": "python",
      "nbconvert_exporter": "python",
      "pygments_lexer": "ipython3",
      "version": "3.12.7"
    }
  },
  "nbformat": 4,
  "nbformat_minor": 5
}